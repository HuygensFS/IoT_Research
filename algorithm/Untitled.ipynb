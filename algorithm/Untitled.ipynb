{
 "cells": [
  {
   "cell_type": "code",
   "execution_count": 13,
   "metadata": {
    "scrolled": true
   },
   "outputs": [
    {
     "name": "stderr",
     "output_type": "stream",
     "text": [
      "/home/joao/anaconda3/lib/python3.7/site-packages/ipykernel_launcher.py:22: SettingWithCopyWarning: \n",
      "A value is trying to be set on a copy of a slice from a DataFrame\n",
      "\n",
      "See the caveats in the documentation: http://pandas.pydata.org/pandas-docs/stable/user_guide/indexing.html#returning-a-view-versus-a-copy\n",
      "/home/joao/anaconda3/lib/python3.7/site-packages/ipykernel_launcher.py:20: SettingWithCopyWarning: \n",
      "A value is trying to be set on a copy of a slice from a DataFrame\n",
      "\n",
      "See the caveats in the documentation: http://pandas.pydata.org/pandas-docs/stable/user_guide/indexing.html#returning-a-view-versus-a-copy\n",
      "/home/joao/anaconda3/lib/python3.7/site-packages/ipykernel_launcher.py:18: SettingWithCopyWarning: \n",
      "A value is trying to be set on a copy of a slice from a DataFrame\n",
      "\n",
      "See the caveats in the documentation: http://pandas.pydata.org/pandas-docs/stable/user_guide/indexing.html#returning-a-view-versus-a-copy\n"
     ]
    },
    {
     "data": {
      "text/plain": [
       "[([3], 24),\n",
       " ([3, 0], 15),\n",
       " ([0], 33),\n",
       " ([0, 3], 6),\n",
       " ([2], 49),\n",
       " ([0, 3, 2], 3),\n",
       " ([2, 0, 3], 1),\n",
       " ([0, 2], 2),\n",
       " ([0, 2, 3], 1),\n",
       " ([3, 2], 6),\n",
       " ([3, 0, 2], 3),\n",
       " ([2, 3], 6)]"
      ]
     },
     "execution_count": 13,
     "metadata": {},
     "output_type": "execute_result"
    }
   ],
   "source": [
    "##Part 1\n",
    "import matplotlib.pyplot as plt\n",
    "import numpy as np\n",
    "#%matplotlib inline\n",
    "import pandas as pd\n",
    "\n",
    "new_day_marker = 18000 # Number of seconds until next sequence of events\n",
    "n_limit = 40 # Number of events to analyse per day start\n",
    "dif_sec = 60 #define the time between events\n",
    "file_name = 'event_data_old.json'\n",
    "\n",
    "df = pd.read_json(file_name,convert_dates=False,convert_axes=False)#,typ='series')\n",
    "time = df['timestamp']\n",
    "dp = df['detection_position']\n",
    "\n",
    "for i in range(len(dp)):\n",
    "    if dp[i] == 1000:\n",
    "        dp[i] = 0\n",
    "    elif dp[i] == 1100:\n",
    "        dp[i] = 3\n",
    "    elif dp[i] == 1001:\n",
    "        dp[i] = 2\n",
    "\n",
    "list_num = []\n",
    "count = 0\n",
    "for i in range(len(time)):\n",
    "    if(i != 0):\n",
    "        if((time[i] - time[i-1])> new_day_marker):\n",
    "            list_num.append([])\n",
    "            for t in range(0, n_limit):\n",
    "                list_num[count].append(i+t)\n",
    "            count = count + 1\n",
    "\n",
    "##Part 2\n",
    "sequences = []\n",
    "codes = []\n",
    "count = 0\n",
    "\n",
    "for i in range(len(list_num)):\n",
    "    checker = []\n",
    "    for j in range(len(list_num[i])):\n",
    "        #Compare times and vote\n",
    "        if(j == 0):\n",
    "            checker = []\n",
    "            sequences.append([])\n",
    "            sequences[count].append(list_num[i][j])\n",
    "            codes.append([])\n",
    "            codes[count].append(dp[list_num[i][j]])\n",
    "            checker.append(dp[list_num[i][j]])\n",
    "        else:\n",
    "            if(time[list_num[i][j]] - time[list_num[i][j-1]] < dif_sec and dp[list_num[i][j]] not in checker):\n",
    "                sequences[count].append(list_num[i][j])\n",
    "                codes[count].append(dp[list_num[i][j]])\n",
    "                checker.append(dp[list_num[i][j]])\n",
    "            else:\n",
    "                checker = []\n",
    "                sequences.append([])\n",
    "                codes.append([])\n",
    "                count = count + 1\n",
    "                sequences[count].append(list_num[i][j])\n",
    "                codes[count].append(dp[list_num[i][j]])\n",
    "                checker.append(dp[list_num[i][j]])\n",
    "    count = count + 1  \n",
    "\n",
    "##Part 3\n",
    "codes_list = []\n",
    "codes_vote = []\n",
    "count = 0\n",
    "for i in range(len(codes)):\n",
    "    a = 0\n",
    "    for j in range(len(codes_list)):\n",
    "        if np.array_equal(codes[i],codes_list[j]):\n",
    "            codes_vote[j] = codes_vote[j] + 1\n",
    "            a = a+1\n",
    "    if(a == 0):\n",
    "        if(i > 0):\n",
    "            count = count + 1\n",
    "        codes_list.append([])\n",
    "        #codes_vote.append([])\n",
    "        for t in range(len(codes[i])):\n",
    "            codes_list[count].append(codes[i][t])\n",
    "        codes_vote.append(1)\n",
    "total_list = zip(np.transpose(codes_list), np.transpose(codes_vote))     \n",
    "list(total_list)\n"
   ]
  },
  {
   "cell_type": "code",
   "execution_count": null,
   "metadata": {},
   "outputs": [],
   "source": []
  }
 ],
 "metadata": {
  "kernelspec": {
   "display_name": "Python 2",
   "language": "python",
   "name": "python2"
  },
  "language_info": {
   "codemirror_mode": {
    "name": "ipython",
    "version": 3
   },
   "file_extension": ".py",
   "mimetype": "text/x-python",
   "name": "python",
   "nbconvert_exporter": "python",
   "pygments_lexer": "ipython3",
   "version": "3.7.4"
  }
 },
 "nbformat": 4,
 "nbformat_minor": 2
}
